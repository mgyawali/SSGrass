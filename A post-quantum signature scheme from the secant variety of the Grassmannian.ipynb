{
 "cells": [
  {
   "cell_type": "markdown",
   "metadata": {},
   "source": [
    "# A signature scheme from the secant variety of the Grassmannian"
   ]
  },
  {
   "cell_type": "code",
   "execution_count": 22,
   "metadata": {},
   "outputs": [],
   "source": [
    "\n",
    "def Plucker(v,w):\n",
    "    \n",
    "    \n",
    "    \"\"\"\n",
    "    Plucker coordinates \n",
    "    \"\"\"\n",
    "\n",
    "    n = len(v)\n",
    "    N =  binomial(n,2)\n",
    "    F =  v[0].parent()\n",
    "    y =  [F(0) for i in range(N)]\n",
    "    m=0\n",
    "    for i in range(n-1):\n",
    "        for j in [i+1..n-1]:\n",
    "            y[m] = v[i]*w[j]-v[j]*w[i]\n",
    "            m= m+1\n",
    "    return y "
   ]
  },
  {
   "cell_type": "code",
   "execution_count": 23,
   "metadata": {},
   "outputs": [],
   "source": [
    "\n",
    "def random_linear_form(R):\n",
    "    \n",
    "    \"\"\"\n",
    "    This function gives a random linear polynomial.\n",
    "    \"\"\"\n",
    "\n",
    "\n",
    "    F = R.base_ring()\n",
    "    ls = R.gens()\n",
    "    f = 0\n",
    "    for i in ls:\n",
    "        f= f+F.random_element()*i\n",
    "    return f"
   ]
  },
  {
   "cell_type": "code",
   "execution_count": 24,
   "metadata": {},
   "outputs": [],
   "source": [
    "\n",
    "def random_sparse_matrix(F,n):\n",
    "    \n",
    "    \"\"\"\n",
    "    Function generating a nxn matrix with around 2n\n",
    "    elements equal to 1 and the remaining are equal to 0\n",
    "    \"\"\"\n",
    "\n",
    "\n",
    "    N = binomial(n,2)\n",
    "    v = [F(0) for i in range(N)]\n",
    "    m = int(N/n)\n",
    "    for i in range(N):\n",
    "        r = randint(0,m-1)\n",
    "        if r == 0:\n",
    "            v[i]=1\n",
    "            \n",
    "    # Upper triangular matrix            \n",
    "    M = Matrix(F,n-1)  \n",
    "    k = 0\n",
    "    for i in range(n-1): \n",
    "        for j in [i..n-2]:\n",
    "            M[i,j]=v[k]\n",
    "            k=k+1      \n",
    "    M = Matrix(F,n-1,1).augment(M)\n",
    "    M = M.stack(Matrix(F,1,n)) + identity_matrix(F,n) \n",
    "    M.change_ring(F)\n",
    "    S = Permutations([i+1 for i in range(n)])    \n",
    "    A = Permutation(S.random_element()).to_matrix()\n",
    "    A.change_ring(F)\n",
    "    B = Permutation(S.random_element()).to_matrix()\n",
    "    B.change_ring(F)\n",
    "    M = A*M*B\n",
    "    return M            \n",
    "        "
   ]
  },
  {
   "cell_type": "markdown",
   "metadata": {},
   "source": [
    " # A toy example "
   ]
  },
  {
   "cell_type": "code",
   "execution_count": 25,
   "metadata": {},
   "outputs": [],
   "source": [
    "\"\"\"\n",
    "Global Parameters\n",
    "\"\"\"\n",
    "\n",
    "F = GF(2)\n",
    "K=GF(2^13)\n",
    "n = 8 # dimension of a vector space V\n",
    "d = 2*(n-2) # dimension of the Grassmannian as a variety : k*(n-k)\n",
    "N = binomial(n,2) #dimension+1 of the Ambiant space\n",
    "R = PolynomialRing(K,N,'x',order='degrevlex')\n",
    "Ad = AffineSpace(K,n-2,'y')\n",
    "Rd = Ad.coordinate_ring()\n",
    "X = Matrix(N,1,R.gens())\n",
    "m = n-2\n"
   ]
  },
  {
   "cell_type": "code",
   "execution_count": 26,
   "metadata": {},
   "outputs": [],
   "source": [
    "\n",
    "\"\"\"\n",
    "\n",
    "Private keys  = (MA,MAinv)\n",
    "Public Keys  = KA \n",
    "\"\"\"\n",
    "\n",
    "def KeygenA():\n",
    "    \n",
    "    m = n-2\n",
    "    \n",
    "    # Anti-symmetric matrix from the variables of R\n",
    "    M = Matrix(R,n)\n",
    "    ls = R.gens()\n",
    "    count = 0\n",
    "    for i in range(n):\n",
    "        for j in [i+1..n-1]:\n",
    "            count = count+1\n",
    "            M[i,j] = ls[count-1]\n",
    "    P = Matrix(R,n)\n",
    "    for i in range(n):\n",
    "        for j in range(n):\n",
    "            if i<j:\n",
    "                P[i,j] = M[i,j]\n",
    "            if i>j:\n",
    "                P[i,j] = -M.transpose()[i,j]            \n",
    "    \n",
    "    S = set([i for i in range(n)])\n",
    "    S1 = Subsets(S,6)\n",
    "    \n",
    "    \n",
    "    # equations defining Sec(G(2,n))\n",
    "    eqs_Sec_of_Grass = []\n",
    "    sub=[]\n",
    "    for i in S1:\n",
    "        sub.append(P[list(i),list(i)]) # submatrices from rows and column from list(x)\n",
    "        \n",
    "    for i in sub:\n",
    "        eqs_Sec_of_Grass.append(i.pfaffian())\n",
    "    \n",
    "\n",
    "    # Alice's Private Keys MA, MAinv\n",
    "    MA = random_sparse_matrix(F,N)\n",
    "    MAinv = MA^(-1)\n",
    "    \n",
    "    MA.change_ring(R) \n",
    "    MAinv.change_ring(R) \n",
    "    \n",
    "   \n",
    " \n",
    "    v = vector(MA*X) # shifting\n",
    "    m_set_of_equations = Subsets(eqs_Sec_of_Grass,m).random_element() # random m = n-2 equations from a set of defining equations of the Secant variety.\n",
    "    KA = [] # Public Keys\n",
    "    for f in m_set_of_equations:\n",
    "        KA.append(f(*v))\n",
    "    return KA , (MA,MAinv)\n",
    "    "
   ]
  },
  {
   "cell_type": "code",
   "execution_count": 27,
   "metadata": {},
   "outputs": [
    {
     "name": "stdout",
     "output_type": "stream",
     "text": [
      "CPU times: user 1 s, sys: 48.4 ms, total: 1.05 s\n",
      "Wall time: 1.32 s\n"
     ]
    }
   ],
   "source": [
    "% time KA, (MA,MAinv)=KeygenA()"
   ]
  },
  {
   "cell_type": "code",
   "execution_count": 28,
   "metadata": {},
   "outputs": [],
   "source": [
    "\n",
    "def Signing(): \n",
    "    \n",
    "    # Signing \n",
    "\n",
    "   \n",
    "    D = [random_linear_form(R) for i in [1..n-2]]   # the document  (n-d) = n-2 linear equations\n",
    "    X = Matrix(N,1,R.gens())\n",
    "    v = vector(MAinv*X)\n",
    "    DA =[]\n",
    "    for f in D:\n",
    "        DA.append(f.substitute(v))\n",
    "    a = [Rd(0) for i in range(n)]\n",
    "    a[0]=1\n",
    "    SA = [[K(0) for i in range(N)] for j in range(2) ]\n",
    "    for i in [2..n-1]:\n",
    "        a[i] = Rd.gens()[i-2]\n",
    "    for j in range(2):\n",
    "        b = [K.random_element() for i in range(n)]\n",
    "        b[0] = 0\n",
    "        b[1] = 1\n",
    "        y=vector(Plucker(a,b))   \n",
    "        YA = []\n",
    "        for f in DA:\n",
    "            YA.append(f.substitute(y))\n",
    "        YA = Ad.subscheme(YA)      \n",
    "        YA = YA.rational_points()[0]\n",
    "        v = vector(YA)\n",
    "        SA[j] = [y[i].substitute(v) for i in range(N)]\n",
    "    r = [K.random_element() for i in range(2)]\n",
    "    SA = [r[0]*SA[0][j]+r[1]*SA[1][j] for j in range(N)]\n",
    "    MAinv.change_ring(K)\n",
    "    SA = vector(MAinv*Matrix(K,N,1,SA)) # Signature\n",
    "    return D,SA"
   ]
  },
  {
   "cell_type": "code",
   "execution_count": 29,
   "metadata": {},
   "outputs": [
    {
     "name": "stdout",
     "output_type": "stream",
     "text": [
      "CPU times: user 742 ms, sys: 68.7 ms, total: 811 ms\n",
      "Wall time: 2.19 s\n"
     ]
    }
   ],
   "source": [
    "% time D,SA = Signing()"
   ]
  },
  {
   "cell_type": "code",
   "execution_count": 30,
   "metadata": {},
   "outputs": [],
   "source": [
    "\n",
    "def Verification():\n",
    "    \n",
    "    # Verification\n",
    "\n",
    "    V1 = []\n",
    "    for f in D:\n",
    "        V1.append(f.substitute(SA))\n",
    "    V2 =[]\n",
    "    for f in KA:\n",
    "        V2.append(f.substitute(SA))\n",
    "    V = V1+V2\n",
    "    t=0\n",
    "    for i in V:\n",
    "        if i==0:\n",
    "            t = t+1\n",
    "    if t == len(V):\n",
    "        return (\"Signature is valid \"), V\n",
    "    else:\n",
    "        return (\"Signature is invalid, try again \"),V\n",
    "    "
   ]
  },
  {
   "cell_type": "code",
   "execution_count": 31,
   "metadata": {},
   "outputs": [
    {
     "name": "stdout",
     "output_type": "stream",
     "text": [
      "CPU times: user 150 ms, sys: 4.05 ms, total: 154 ms\n",
      "Wall time: 151 ms\n"
     ]
    },
    {
     "data": {
      "text/plain": [
       "('Signature is valid ', [0, 0, 0, 0, 0, 0, 0, 0, 0, 0, 0, 0])"
      ]
     },
     "execution_count": 31,
     "metadata": {},
     "output_type": "execute_result"
    }
   ],
   "source": [
    "% time Verification()"
   ]
  }
 ],
 "metadata": {
  "kernelspec": {
   "display_name": "SageMath 8.1",
   "language": "",
   "name": "sagemath"
  },
  "language_info": {
   "codemirror_mode": {
    "name": "ipython",
    "version": 2
   },
   "file_extension": ".py",
   "mimetype": "text/x-python",
   "name": "python",
   "nbconvert_exporter": "python",
   "pygments_lexer": "ipython2",
   "version": "2.7.17"
  }
 },
 "nbformat": 4,
 "nbformat_minor": 2
}
